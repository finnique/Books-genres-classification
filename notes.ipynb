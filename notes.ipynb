{
 "cells": [
  {
   "cell_type": "markdown",
   "metadata": {},
   "source": [
    "#### Books Genre Classification (On going)\n",
    "\n",
    "Data:\n",
    "\n",
    "Research Questions:\n",
    "\n",
    "\n",
    "Models:\n",
    "1. Naive Bayes from scratch\n",
    "    - Predict from titles\n",
    "    - Predict from summary\n",
    "2. Naive Bayes from scikit \n",
    "    - Predict from titles\n",
    "    - Predict from summary\n",
    "3. Neural Network \n",
    "    - Predict from titles\n",
    "    - Predict from summary\n",
    "    - Predict from titles + Emotion Analysis\n",
    "    - Predict from summary + Topic Modeling\n",
    "\n",
    "Main Features:\n",
    "- Titles\n",
    "- Summary\n",
    "\n",
    "Additional Features:\n",
    "- Topic Modeling for summary\n",
    "- Emotion analysis for title \n"
   ]
  },
  {
   "cell_type": "markdown",
   "metadata": {},
   "source": [
    "#### TO-DO (Update: 10.07.2024)\n",
    "\n",
    "- Data analysis (Done)\n",
    "- Naive Bayes from scratch (On going)\n",
    "    - Data preprocessing (Done)\n",
    "    - Evaluation methods: Precision, Recall, F1 (Done)\n",
    "    - Baseline model (On going)"
   ]
  }
 ],
 "metadata": {
  "language_info": {
   "name": "python"
  }
 },
 "nbformat": 4,
 "nbformat_minor": 2
}
